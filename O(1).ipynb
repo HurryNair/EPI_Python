{
  "nbformat": 4,
  "nbformat_minor": 0,
  "metadata": {
    "colab": {
      "name": "O(1).ipynb",
      "provenance": [],
      "collapsed_sections": [],
      "authorship_tag": "ABX9TyOe86zeU7+YGfYsmNWmv2gP",
      "include_colab_link": true
    },
    "kernelspec": {
      "name": "python3",
      "display_name": "Python 3"
    }
  },
  "cells": [
    {
      "cell_type": "markdown",
      "metadata": {
        "id": "view-in-github",
        "colab_type": "text"
      },
      "source": [
        "<a href=\"https://colab.research.google.com/github/HurryNair/EPI_Python/blob/main/O(1).ipynb\" target=\"_parent\"><img src=\"https://colab.research.google.com/assets/colab-badge.svg\" alt=\"Open In Colab\"/></a>"
      ]
    },
    {
      "cell_type": "markdown",
      "metadata": {
        "id": "52U3hatqDefQ"
      },
      "source": [
        "Alright, welcome to **O(1)**! \n",
        "\n",
        "If you don't know what that means, you're probably at the wrong place and need to look it up first.\n",
        "\n",
        "First things first. Before you rule me a brute, a moments silence to the multi-line comment syntax in Python. Thanks Van!\n",
        "\n",
        "Now that we have that out of the way, let's talk algorithms!"
      ]
    },
    {
      "cell_type": "markdown",
      "metadata": {
        "id": "Z8ijSYgTJv0V"
      },
      "source": [
        "Let's assume you sleep with one eye open while you keep the other one on the market. Let's also assume that you have a weeks worth of opening share prices of a particular stock that you've been watching and would like to work some sort of a trend off it. "
      ]
    },
    {
      "cell_type": "markdown",
      "metadata": {
        "id": "UEvxRJ1qL_YE"
      },
      "source": [
        "Let's assume below list to contain a week's worth of share prices."
      ]
    },
    {
      "cell_type": "code",
      "metadata": {
        "id": "bhxXbIe6MIli"
      },
      "source": [
        "l = [3, 4, 6, 5, 7, 6, 5]"
      ],
      "execution_count": 1,
      "outputs": []
    },
    {
      "cell_type": "markdown",
      "metadata": {
        "id": "u5_9vRDmM_Zy"
      },
      "source": [
        "For the sake of argument let's assume that I would like to know, based on last weeks data, what would have been the maximum profit if I were to buy and sell a share all within the same week.\n",
        "\n",
        "So to rephrase, I would like to buy a share ideally when the price is at its lowest & then sell it when the price of the share peaks in order to maximize profit. One thing to pay attention to is the fact that we cannot sell a share before we buy it.\n",
        "\n",
        "So what's the easiest way to do this ? \n",
        "\n",
        "Maybe a brute-force technique to start off ?"
      ]
    },
    {
      "cell_type": "code",
      "metadata": {
        "id": "sgh2vzKmPuqr",
        "colab": {
          "base_uri": "https://localhost:8080/"
        },
        "outputId": "3b4f9cc9-9dee-488d-a5c9-9c645e29a1a3"
      },
      "source": [
        "# Creating two pointers to iterate through the list \n",
        "# with one point fixated on the date of purchase (i) \n",
        "# and with the other (j) calculating all possible profits/loss scenarios\n",
        "# starting with the day after the day of purchase\n",
        " \n",
        "max_profit = 0\n",
        " \n",
        "for i in range(0, len(l) - 1): # If I were to buy a share on day i\n",
        "  for j in range(i+1, len(l)): #Would me selling on day j \n",
        "    if l[j] - l[i] > max_profit : # fetch me more profits than it did on any day before this ?\n",
        "      max_profit = l[j] - l[i]\n",
        "    # repeat experiment with next day as day of purchase\n",
        " \n",
        "print(\"Max attainable profit : \" + str(max_profit))"
      ],
      "execution_count": 2,
      "outputs": [
        {
          "output_type": "stream",
          "text": [
            "Max attainable profit : 4\n"
          ],
          "name": "stdout"
        }
      ]
    },
    {
      "cell_type": "markdown",
      "metadata": {
        "id": "3jDQplT-WYFE"
      },
      "source": [
        "Now we'd expect this code to say 4 because we see that the smartest buy would be on day 0 & the smartest sell would be on day 4.\n",
        "\n",
        "So that's that. Now we take a quick minute to try and quantify this approach."
      ]
    },
    {
      "cell_type": "markdown",
      "metadata": {
        "id": "ZbHVVd8AYxbr"
      },
      "source": [
        "Assuming we have an input of n days, we see that the outer for loop runs (n-1) times while the inner for loop runs i times lesser i.e (n-1-i) times.\n",
        "\n",
        "So that would be (n-2) of (n-1-i) iterations making the run-time complexity of this algorithm O(n^2)\n",
        "\n",
        "Coming to space complexity it uses two iterators & one variable. This can be written off since it would remain a constant.\n",
        "\n",
        "Let's check some corner cases & graph this up!"
      ]
    },
    {
      "cell_type": "code",
      "metadata": {
        "id": "o6jv8PRQciwZ",
        "colab": {
          "base_uri": "https://localhost:8080/",
          "height": 279
        },
        "outputId": "2da2efae-ae3c-4902-a301-0ad25e5f92fe"
      },
      "source": [
        "import matplotlib.pyplot as plt\n",
        "from matplotlib.pyplot import show\n",
        "import numpy as np\n",
        " \n",
        "#Assuming I have 365 days of share prices\n",
        "n = 365\n",
        "t = np.arange(n)\n",
        " \n",
        "plt.xlabel(\"number of datapoints\")\n",
        "plt.ylabel(\"runtime in ms\")\n",
        " \n",
        "plt.plot(t**2)\n",
        "show()"
      ],
      "execution_count": 5,
      "outputs": [
        {
          "output_type": "display_data",
          "data": {
            "image/png": "[encoded data removed]",
            "text/plain": [
              "<Figure size 432x288 with 1 Axes>"
            ]
          },
          "metadata": {
            "tags": [],
            "needs_background": "light"
          }
        }
      ]
    },
    {
      "cell_type": "markdown",
      "metadata": {
        "id": "yYlxZNKy9G9G"
      },
      "source": [
        "Calling this approach naive would be an understatement as it would result in unacceptably large runtimes & would definitely result in a TLE.\n",
        "\n",
        "A commonly used technique to control runtime of a brute force solution would be to divide the problem into subproblems & handle them individually. "
      ]
    },
    {
      "cell_type": "code",
      "metadata": {
        "id": "6XzDt1lFOJ-i",
        "colab": {
          "base_uri": "https://localhost:8080/"
        },
        "outputId": "d23c6df3-3ff3-4aff-8c23-05dab9f66dd4"
      },
      "source": [
        "# Divide array into two subarrays\n",
        "# Calculate individual max profits\n",
        "# Identify the greater of the two\n",
        " \n",
        "# A possible corner case is when the smartest buy lies in the \n",
        "# first subarray with the smartest sell lying in the second subarray\n",
        "# This can be handled in O(n) time complexity by keeping track of min\n",
        "# in the first & max in the second subarray\n",
        " \n",
        "# Subarray 1\n",
        "max_profit1 = 0\n",
        "minimum1 = l[0]\n",
        "for i in range((len(l)//2)-1):\n",
        "    if l[i] < minimum1 : minimum1 = l[i]\n",
        "    for j in range(i+1, (len(l)//2)):\n",
        "        if l[j] - l[i] > max_profit1:\n",
        "          max_profit1 = l[j] - l[i]\n",
        " \n",
        "# Subarray 2\n",
        "max_profit2 = 0\n",
        "maximum2 = l[len(l)//2]\n",
        "for i in range(len(l)//2, len(l)-1):\n",
        "    if l[i] > maximum2 : maximum2 = l[i]\n",
        "    for j in range(i+1, len(l)):\n",
        "        if l[j] - l[i] > max_profit2:\n",
        "          max_profit2 = l[j] - l[i]\n",
        " \n",
        "print(max(max_profit1, max_profit2, (maximum2 - minimum1)))"
      ],
      "execution_count": 6,
      "outputs": [
        {
          "output_type": "stream",
          "text": [
            "4\n"
          ],
          "name": "stdout"
        }
      ]
    },
    {
      "cell_type": "markdown",
      "metadata": {
        "id": "u5UU8Kh_b-lz"
      },
      "source": [
        "If we were to say the runtime for the brute-force solution was T, then the time complexity analysis of the above divide & conquer solution would yield 2(T/2) + O(n) which can further be simplified down to O(nlog(n)).\n",
        "\n",
        "Plotting this up against a years worth of datapoints, we see staggering changes."
      ]
    },
    {
      "cell_type": "code",
      "metadata": {
        "id": "ztwyie3Pc_Tt",
        "colab": {
          "base_uri": "https://localhost:8080/",
          "height": 279
        },
        "outputId": "9b17329a-0a06-4f7a-b63d-3811ef72fcc2"
      },
      "source": [
        "from math import log\n",
        " \n",
        "y = [(i+1)*(log(i+1)) for i in t]\n",
        " \n",
        "plt.xlabel(\"number of datapoints\")\n",
        "plt.ylabel(\"runtime in ms\")\n",
        " \n",
        "plt.plot(y)\n",
        "show()"
      ],
      "execution_count": 7,
      "outputs": [
        {
          "output_type": "display_data",
          "data": {
            "image/png": "[encoded data removed]",
            "text/plain": [
              "<Figure size 432x288 with 1 Axes>"
            ]
          },
          "metadata": {
            "tags": [],
            "needs_background": "light"
          }
        }
      ]
    },
    {
      "cell_type": "markdown",
      "metadata": {
        "id": "T6T77ZTwePLf"
      },
      "source": [
        "We see that a simple modification to our approach has brought down the runtime by a factor of 0.16. \n",
        "\n",
        "Would there at all be single pass solution to this ? If so how much more efficient & therefore how much more important ?"
      ]
    },
    {
      "cell_type": "code",
      "metadata": {
        "id": "__PvtIlme3VP",
        "colab": {
          "base_uri": "https://localhost:8080/"
        },
        "outputId": "5c62066a-96dc-4124-c32b-4563287b1f6e"
      },
      "source": [
        "# Passing over the list, we only evaluate one thing\n",
        "# Is this a good day to buy/sell, or is this a good to hold ?\n",
        " \n",
        "# Max profit attainable on day i is essentially the difference between\n",
        "# the price on that day minus the least price so far\n",
        " \n",
        "min_so_far = l[0]\n",
        "max_profit_so_far = 0\n",
        " \n",
        "for i in range(len(l)):\n",
        "  if l[i] < min_so_far : # A good day to buy\n",
        "    min = l[i]\n",
        "  if l[i] - min_so_far > max_profit_so_far :\n",
        "    max_profit_so_far = l[i] - min_so_far\n",
        " \n",
        "print(max_profit_so_far)"
      ],
      "execution_count": 8,
      "outputs": [
        {
          "output_type": "stream",
          "text": [
            "4\n"
          ],
          "name": "stdout"
        }
      ]
    },
    {
      "cell_type": "markdown",
      "metadata": {
        "id": "nuXtWFesmJMg"
      },
      "source": [
        "The for loop is run one time per input. The time complexity of the above algorithm would therefore be directly dependent on the number of inputs & the number of inputs only, making it O(n).\n",
        "\n",
        "Quickly doing the math, we see a 97% faster solution when compared to our brute-force solution & an 82% faster solution in comparison to the divide and conquer approach applied onto the brute force approach."
      ]
    },
    {
      "cell_type": "code",
      "metadata": {
        "id": "pGWOo1PTm17k",
        "colab": {
          "base_uri": "https://localhost:8080/",
          "height": 279
        },
        "outputId": "1a9bcf24-ab75-4210-827e-1210d6a46fe3"
      },
      "source": [
        "y = [i for i in t]\n",
        " \n",
        "plt.xlabel(\"number of datapoints\")\n",
        "plt.ylabel(\"runtime in ms\")\n",
        " \n",
        "plt.plot(y)\n",
        "show()"
      ],
      "execution_count": 9,
      "outputs": [
        {
          "output_type": "display_data",
          "data": {
            "image/png": "[encoded data removed]",
            "text/plain": [
              "<Figure size 432x288 with 1 Axes>"
            ]
          },
          "metadata": {
            "tags": [],
            "needs_background": "light"
          }
        }
      ]
    },
    {
      "cell_type": "markdown",
      "metadata": {
        "id": "-vC_jnjLm_fa"
      },
      "source": [
        "And that is why algorithms are beautiful!"
      ]
    },
    {
      "cell_type": "markdown",
      "metadata": {
        "id": "ShEXyCcknFID"
      },
      "source": [
        "If there's anything you think I should be doing differently or if you wanna see more of that math, let me know and I'll start making changes!"
      ]
    }
  ]
}